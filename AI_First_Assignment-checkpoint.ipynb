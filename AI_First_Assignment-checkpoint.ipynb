{
 "cells": [
  {
   "cell_type": "code",
   "execution_count": 9,
   "id": "057f8e9d",
   "metadata": {},
   "outputs": [
    {
     "name": "stdout",
     "output_type": "stream",
     "text": [
      "Enter starting number1\n",
      "Enter ending number10\n",
      "1\n",
      "2\n",
      "3\n",
      "5\n",
      "7\n"
     ]
    }
   ],
   "source": [
    "#Prime Number in the Given Range\n",
    "def isPrime(num):\n",
    "    a=0\n",
    "    for i in range (1,num+1):\n",
    "        if(num%i==0):\n",
    "            a=a+1\n",
    "    if(a==2):\n",
    "        return True\n",
    "    else:\n",
    "        return False\n",
    "\n",
    "start=int(input(\"Enter starting number\"))\n",
    "end=int(input(\"Enter ending number\"))\n",
    "\n",
    "for i in range(start,end+1):\n",
    "    if isPrime(i):\n",
    "        print(i)"
   ]
  },
  {
   "cell_type": "code",
   "execution_count": 10,
   "id": "9b374eb6",
   "metadata": {},
   "outputs": [
    {
     "name": "stdout",
     "output_type": "stream",
     "text": [
      "Enter a number2\n",
      "Palindrome\n"
     ]
    }
   ],
   "source": [
    "#Palindrome\n",
    "num=int(input(\"Enter a number\"))\n",
    "summ=0\n",
    "check=num\n",
    "while(num>0):\n",
    "    rem=num%10\n",
    "    summ=summ*10+rem\n",
    "    num=num//10\n",
    "if(check==summ):\n",
    "    print(\"Palindrome\")\n",
    "else:\n",
    "    print(\"Not a palindrome\")"
   ]
  },
  {
   "cell_type": "code",
   "execution_count": 5,
   "id": "a5484b32",
   "metadata": {},
   "outputs": [
    {
     "name": "stdout",
     "output_type": "stream",
     "text": [
      "Enter a number5\n",
      "0\n",
      "1\n",
      "1\n",
      "2\n",
      "3\n"
     ]
    }
   ],
   "source": [
    "#Fibonacci Series\n",
    "num=int(input(\"Enter a number\"))\n",
    "a=0\n",
    "b=1\n",
    "for i in range (1,num+1):\n",
    "    print(a)\n",
    "    temp=a\n",
    "    a=b\n",
    "    b=temp+b\n"
   ]
  },
  {
   "cell_type": "code",
   "execution_count": 3,
   "id": "6aecddcb",
   "metadata": {},
   "outputs": [
    {
     "name": "stdout",
     "output_type": "stream",
     "text": [
      "The Number is Between 1 and 100\n",
      "Enter your guess 45\n",
      "Go Higher \n",
      "Enter your guess 85\n",
      "Go Lower\n",
      "Enter your guess 65\n",
      "Go Lower\n",
      "Enter your guess 50\n",
      "Go Higher \n",
      "Enter your guess 55\n",
      "Go Lower\n",
      "Enter your guess 52\n",
      "Go Lower\n",
      "Enter your guess 51\n",
      "Correct!!!\n"
     ]
    }
   ],
   "source": [
    "#Number Guessing Game\n",
    "import random\n",
    "target=random.randint(1,100)\n",
    "print(\"The Number is Between 1 and 100\")\n",
    "\n",
    "while(guess!=target):\n",
    "    guess=int(input(\"Enter your guess \"))\n",
    "\n",
    "    if (guess>target):\n",
    "        print(\"Go Lower\")\n",
    "    elif(guess<target):\n",
    "        print(\"Go Higher \")\n",
    "    else:\n",
    "        print(\"Correct!!!\")"
   ]
  },
  {
   "cell_type": "code",
   "execution_count": null,
   "id": "a5c15a6f",
   "metadata": {},
   "outputs": [],
   "source": []
  }
 ],
 "metadata": {
  "kernelspec": {
   "display_name": "Python 3 (ipykernel)",
   "language": "python",
   "name": "python3"
  },
  "language_info": {
   "codemirror_mode": {
    "name": "ipython",
    "version": 3
   },
   "file_extension": ".py",
   "mimetype": "text/x-python",
   "name": "python",
   "nbconvert_exporter": "python",
   "pygments_lexer": "ipython3",
   "version": "3.11.5"
  }
 },
 "nbformat": 4,
 "nbformat_minor": 5
}
